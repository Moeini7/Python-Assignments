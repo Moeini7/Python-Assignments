{
 "cells": [
  {
   "cell_type": "markdown",
   "id": "theoretical-satin",
   "metadata": {},
   "source": [
    "1) compute the average of the following list\n",
    "- lst = [15, 9, 20, 41, 35, 20, 62, 42.5]\n"
   ]
  },
  {
   "cell_type": "code",
   "execution_count": 2,
   "id": "exposed-edgar",
   "metadata": {},
   "outputs": [
    {
     "name": "stdout",
     "output_type": "stream",
     "text": [
      "The average of the given numbers is: 30.525\n"
     ]
    }
   ],
   "source": [
    "mylist1=[15,9,20,41,35,20,62,42.2]\n",
    "\n",
    "x1=0\n",
    "avg1=0\n",
    "n1=len(mylist1)\n",
    "\n",
    "for i1 in range(0,n1):\n",
    "    x1=mylist1[i1]+x1\n",
    "    \n",
    "avg1=x1/len(mylist1)\n",
    "print('The average of the given numbers is:',avg1)"
   ]
  },
  {
   "cell_type": "markdown",
   "id": "absolute-alpha",
   "metadata": {},
   "source": [
    "2) write a program that asks the user for a positive integer between 1 and 7 and also prints the day of week corresponding to that number in all capital letters. For example when the user enters 1, it will print out MONDAY, or if the user enters 3, it will print out WEDNESDAY \n"
   ]
  },
  {
   "cell_type": "code",
   "execution_count": 3,
   "id": "skilled-admission",
   "metadata": {},
   "outputs": [
    {
     "name": "stdout",
     "output_type": "stream",
     "text": [
      "Please enter an integer positive number between 1 and 7: 3\n",
      "The day of week corresponding to the entered number is: WEDNESDAY\n"
     ]
    }
   ],
   "source": [
    "num2 = int(input('Please enter an integer positive number between 1 and 7: '))\n",
    "if num2 == 1:\n",
    "    print('The day of week corresponding to the entered number is: MONDAY')\n",
    "    \n",
    "elif num2 == 2:\n",
    "    print('The day of week corresponding to the entered number is: TUESDAY')\n",
    "    \n",
    "elif num2 == 3:\n",
    "    print('The day of week corresponding to the entered number is: WEDNESDAY')\n",
    "    \n",
    "elif num2 == 4:\n",
    "    print('The day of week corresponding to the entered number is: THURSDAY')\n",
    "    \n",
    "elif num2 == 5:\n",
    "    print('The day of week corresponding to the entered number is: FRIDAY')\n",
    "    \n",
    "elif num2 == 6:\n",
    "    print('The day of week corresponding to the entered number is: SATURDAY')\n",
    "    \n",
    "elif num2 == 7:\n",
    "    print('The day of week corresponding to the entered number is: SUNDAY')\n",
    "    \n",
    "else:\n",
    "    print('The entered number is not valid')"
   ]
  },
  {
   "cell_type": "markdown",
   "id": "adolescent-secretariat",
   "metadata": {},
   "source": [
    "3) Write a program that asks the user to enter an integer number.\n",
    "- If the input number is 12, your program should print \"twelve\"\n",
    "- If the input number is 60, your program should print \"sixty\"\n",
    "- If the input number is 5, your program should print \"five\"\n",
    "- Otherwise the program prints \"other\""
   ]
  },
  {
   "cell_type": "code",
   "execution_count": 4,
   "id": "czech-handy",
   "metadata": {},
   "outputs": [
    {
     "name": "stdout",
     "output_type": "stream",
     "text": [
      "Please enter an integer number: 60\n",
      "The entered number is sixty\n"
     ]
    }
   ],
   "source": [
    "num3 = int(input('Please enter an integer number: '))\n",
    "if num3 == 12:\n",
    "    print('The entered number is twelve')\n",
    "elif num3 == 60:\n",
    "    print('The entered number is sixty')\n",
    "elif num3 == 5:\n",
    "    print('The entered number is five')\n",
    "else:\n",
    "    print('Other')"
   ]
  },
  {
   "cell_type": "markdown",
   "id": "loved-adventure",
   "metadata": {},
   "source": [
    "4) Write a program that asks the user to enter their age (for example: 18) and print the output exactly like the following format:\n",
    "    \n",
    "- When the age is less than or equal to 0, print \"UNBORN\"\n",
    "- when the age is more than 0, less or equal than 150, print \"ALIVE\"\n",
    "- when the age is more than 150, print \"Fossile\""
   ]
  },
  {
   "cell_type": "code",
   "execution_count": 5,
   "id": "junior-satin",
   "metadata": {},
   "outputs": [
    {
     "name": "stdout",
     "output_type": "stream",
     "text": [
      "Please enter your age: 185\n",
      "Fossile\n"
     ]
    }
   ],
   "source": [
    "age4 = int(input('Please enter your age: '))\n",
    "if age4<=0:\n",
    "    print('UNBORN')\n",
    "elif 0<age4<=150:\n",
    "    print('ALIVE')\n",
    "elif age4>150:\n",
    "    print('Fossile')"
   ]
  },
  {
   "cell_type": "markdown",
   "id": "secret-baking",
   "metadata": {},
   "source": [
    "5) Write a program that asks the user to enter an integer number that represents the total number of hours the user has worked per week. Your program should calculate and print the total amount of money the user earns per week.\n",
    "- If the user enters a number less than 0 or more than 168, your program must print INVALID.\n",
    "- you earn 8 dollars per hour in the first 40 hours.\n",
    "- you earn 9 dollars per hour for working overtime between 41 to 50. \n",
    "- you earn 10 dollars for working overtime more than 50 hours.\n",
    "\n",
    "- Example1: if the user enters 41, the program should print \"YOU MADE 329 DOLLARS THIS WEEK\"\n",
    "- Example2: if the user enters 70, the program should print \"YOU MADE 610  DOLLARS THIS WEEK\"\n"
   ]
  },
  {
   "cell_type": "code",
   "execution_count": 6,
   "id": "portuguese-collar",
   "metadata": {},
   "outputs": [
    {
     "name": "stdout",
     "output_type": "stream",
     "text": [
      "How many hours do you work per week: 70\n",
      "YOU MADE 610 DOLLARS PER WEEK\n"
     ]
    }
   ],
   "source": [
    "hour5 = int(input('How many hours do you work per week: '))\n",
    "\n",
    "if hour5<0 or hour5>168:\n",
    "    print('The entered number is INVALID')\n",
    "\n",
    "elif 0<=hour5<=40:\n",
    "    earn=8*hour5\n",
    "    print('YOU MADE',earn,'DOLLARS PER WEEK')\n",
    "elif 41<=hour5<=50:\n",
    "    earn=(8*40)+((hour5-40)*9)\n",
    "    print('YOU MADE',earn,'DOLLARS PER WEEK')\n",
    "elif hour5>50:\n",
    "    earn=(40*8)+(10*9)+((hour5-50)*10)\n",
    "    print('YOU MADE',earn,'DOLLARS PER WEEK')"
   ]
  },
  {
   "cell_type": "markdown",
   "id": "veterinary-atlas",
   "metadata": {},
   "source": [
    "6) write a program that convert a given integer to days, hours, minutes and seconds\n",
    "- Example: input: 369121517 output: 1 days 12 hours 0 minutes 0 seconds"
   ]
  },
  {
   "cell_type": "code",
   "execution_count": 7,
   "id": "stone-transfer",
   "metadata": {},
   "outputs": [
    {
     "name": "stdout",
     "output_type": "stream",
     "text": [
      "Please enter an integer number: 999632\n",
      "11 days 13 hours 40 minutes 32 seconds\n"
     ]
    }
   ],
   "source": [
    "num6 = int(input('Please enter an integer number: '))\n",
    "\n",
    "x6 = num6/86400\n",
    "days = int(x6)\n",
    "hours = int((x6-int(x6))*24)\n",
    "minu = int((((x6-int(x6))*24)-hours)*60)\n",
    "sec = int((((((x6-int(x6))*24)-hours)*60)-minu)*60)\n",
    "\n",
    "print(days,'days',hours,'hours',minu,'minutes',sec,'seconds')"
   ]
  },
  {
   "cell_type": "markdown",
   "id": "humanitarian-census",
   "metadata": {},
   "source": [
    "7) write a program that computes the factorial of an integer number  #(with While Loop)\n",
    "- Example: input:5 , output:120"
   ]
  },
  {
   "cell_type": "code",
   "execution_count": 8,
   "id": "laden-facing",
   "metadata": {},
   "outputs": [
    {
     "name": "stdout",
     "output_type": "stream",
     "text": [
      "Please enter an integer number: 8\n",
      "The factorial of the entered number is: 40320\n"
     ]
    }
   ],
   "source": [
    "num7 = int(input('Please enter an integer number: '))\n",
    "\n",
    "if num7<0:\n",
    "    print('Invalid number')\n",
    "elif num7==0:\n",
    "    print('The factorial of the entered number is: 1')\n",
    "else:\n",
    "    fact=num7\n",
    "    x7=1\n",
    "    while(x7<num7):\n",
    "        fact=x7*fact\n",
    "        x7=x7+1\n",
    "    print('The factorial of the entered number is:',fact)"
   ]
  },
  {
   "cell_type": "markdown",
   "id": "moderate-craft",
   "metadata": {},
   "source": [
    "8) Write a program that uses the while loop to print the sum of all the numbers between 1 and 1200 that their remainder by 3 is one."
   ]
  },
  {
   "cell_type": "code",
   "execution_count": 9,
   "id": "sharing-pearl",
   "metadata": {},
   "outputs": [
    {
     "name": "stdout",
     "output_type": "stream",
     "text": [
      "The summation of the numbers between 1 and 1200 that their remainder by 3 is one is: 239800\n"
     ]
    }
   ],
   "source": [
    "sum8 = 0\n",
    "x8 = 1\n",
    "while(x8<1201):\n",
    "    if x8%3 == 1:\n",
    "        sum8 = x8+sum8\n",
    "        x8 = x8+1\n",
    "    else:\n",
    "        x8 = x8+1\n",
    "        \n",
    "print('The summation of the numbers between 1 and 1200 that their remainder by 3 is one is:',sum8)"
   ]
  },
  {
   "cell_type": "markdown",
   "id": "creative-routine",
   "metadata": {},
   "source": [
    "9) Write a program which repeatedly reads numbers until the user enters\n",
    "“done”. Once “done” is entered, print out the total, count, and average of the\n",
    "numbers. "
   ]
  },
  {
   "cell_type": "code",
   "execution_count": 10,
   "id": "formal-jonathan",
   "metadata": {},
   "outputs": [
    {
     "name": "stdout",
     "output_type": "stream",
     "text": [
      "Please enter your number: 109\n",
      "Please enter your number: 86\n",
      "Please enter your number: 47\n",
      "Please enter your number: 13\n",
      "Please enter your number: 96\n",
      "Please enter your number: 888\n",
      "Please enter your number: done\n",
      "\n",
      "Ok,you have entered 6 numbers\n",
      "The summation of all entered numbers is: 1239\n",
      "And,The average of all entered numbers is: 206.5\n"
     ]
    }
   ],
   "source": [
    "sum9 = 0\n",
    "avg9 = 0\n",
    "z=0\n",
    "i9=0\n",
    "\n",
    "\n",
    "while(1>0):\n",
    "    \n",
    "    x99 = input('Please enter your number: ')\n",
    "    if 'done' in x99:\n",
    "        print()\n",
    "        print('Ok,you have entered',z,'numbers')\n",
    "        print('The summation of all entered numbers is:' ,sum9)\n",
    "        print('And,The average of all entered numbers is:' ,avg9)\n",
    "        break\n",
    "    \n",
    "    else: \n",
    "            z = z+1\n",
    "            sum9 = sum9  + int(x99)\n",
    "            i9 = 1+i9\n",
    "            avg9 = sum9/z"
   ]
  }
 ],
 "metadata": {
  "kernelspec": {
   "display_name": "dl",
   "language": "python",
   "name": "dl"
  },
  "language_info": {
   "codemirror_mode": {
    "name": "ipython",
    "version": 3
   },
   "file_extension": ".py",
   "mimetype": "text/x-python",
   "name": "python",
   "nbconvert_exporter": "python",
   "pygments_lexer": "ipython3",
   "version": "3.6.12"
  }
 },
 "nbformat": 4,
 "nbformat_minor": 5
}
