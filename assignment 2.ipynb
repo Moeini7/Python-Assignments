{
 "cells": [
  {
   "cell_type": "markdown",
   "id": "stainless-provision",
   "metadata": {},
   "source": [
    "1) Write a program that finds the Fibonacci series for a given number.\n",
    "<br> A Fibonacci sequence is the integer sequence of 0, 1, 1, 2, 3, 5, 8.... The first two terms are 0 and 1. All other terms are obtained by adding the preceding two terms. This means to say the nth term is the sum of (n-1)th and (n-2)th term\n",
    "<br> for example the Fibonacci sequence up to 10 is: 0 1 1 2 3 5 8 13 21 34\n"
   ]
  },
  {
   "cell_type": "code",
   "execution_count": 1,
   "id": "supported-poker",
   "metadata": {},
   "outputs": [
    {
     "name": "stdout",
     "output_type": "stream",
     "text": [
      "Please enter an integer number: 10\n",
      "0 1 1 2 3 5 8 13 21 34 "
     ]
    }
   ],
   "source": [
    "#Ex.1\n",
    "num1 = int(input(\"Please enter an integer number: \"))\n",
    "\n",
    "for i in range(num1):\n",
    "    if i==0:\n",
    "        x=i\n",
    "        print(0,end=\" \")\n",
    "    if i==1:\n",
    "        y=i\n",
    "        print(1,end=\" \")\n",
    "    if i>1:\n",
    "      \n",
    "        z = x+y\n",
    "        x = z-x\n",
    "        y = z\n",
    "        \n",
    "        print(y,end=\" \")"
   ]
  },
  {
   "cell_type": "markdown",
   "id": "incomplete-candy",
   "metadata": {},
   "source": [
    "2) write a program to compute the prime factors of a given number.\n",
    "+ for example if you enter 10, it prints out 2 and 5 "
   ]
  },
  {
   "cell_type": "code",
   "execution_count": 10,
   "id": "disturbed-scroll",
   "metadata": {},
   "outputs": [
    {
     "name": "stdout",
     "output_type": "stream",
     "text": [
      "Please eneter an integer number: 12\n",
      "3\n",
      "2\n"
     ]
    }
   ],
   "source": [
    "#Ex.2\n",
    "n=0\n",
    "num=int(input(\"Please eneter an integer number: \"))\n",
    "for i in range(num,0,-1):\n",
    "    if num%i==0:\n",
    "        for j in range(i,0,-1):\n",
    "            if i%j==0:\n",
    "                n=n+1\n",
    "            \n",
    "        if n==2:\n",
    "            print(i)\n",
    "        n=0"
   ]
  },
  {
   "cell_type": "markdown",
   "id": "scientific-warrant",
   "metadata": {},
   "source": [
    "3. Write a Python program to construct the following pattern:\n",
    "\n",
    " * \n",
    " * * \n",
    " * * * \n",
    " * * * * \n",
    " * * * * * \n",
    " * * * * \n",
    " * * * \n",
    " * * \n",
    " *"
   ]
  },
  {
   "cell_type": "code",
   "execution_count": 3,
   "id": "documentary-implementation",
   "metadata": {},
   "outputs": [
    {
     "name": "stdout",
     "output_type": "stream",
     "text": [
      "\n",
      "* \n",
      "* * \n",
      "* * * \n",
      "* * * * \n",
      "* * * * * \n",
      "* * * * \n",
      "* * * \n",
      "* * \n",
      "* \n",
      "\n"
     ]
    }
   ],
   "source": [
    "#Ex.3\n",
    "for i in range(6):    \n",
    "    for j in range(i):\n",
    "        print('*',end=' ')\n",
    "    print()\n",
    "    \n",
    "for i in range(4,-1,-1):\n",
    "    for j in range(i):\n",
    "        print('*',end=' ')\n",
    "    print()"
   ]
  },
  {
   "cell_type": "markdown",
   "id": "german-monthly",
   "metadata": {},
   "source": [
    "4. Write a Python program to construct the following pattern:\n",
    "\n",
    "1 2 3 4 5 \n",
    "1 2 3 4 \n",
    "1 2 3 \n",
    "1 2 \n",
    "1 "
   ]
  },
  {
   "cell_type": "code",
   "execution_count": 4,
   "id": "permanent-ontario",
   "metadata": {},
   "outputs": [
    {
     "name": "stdout",
     "output_type": "stream",
     "text": [
      "1 2 3 4 5 \n",
      "1 2 3 4 \n",
      "1 2 3 \n",
      "1 2 \n",
      "1 \n",
      "\n"
     ]
    }
   ],
   "source": [
    "#Ex.4\n",
    "for i in range(6,0,-1):\n",
    "    for j in range(1,i):\n",
    "        print(j,end=\" \")\n",
    "    print()"
   ]
  },
  {
   "cell_type": "markdown",
   "id": "cellular-promotion",
   "metadata": {},
   "source": [
    "5. Write a Python program to construct the following pattern:\n",
    "\n",
    "\n",
    "     *\n",
    "    * *\n",
    "   * * *\n",
    "  * * * *\n",
    " * * * * *\n",
    "* * * * * *"
   ]
  },
  {
   "cell_type": "code",
   "execution_count": 5,
   "id": "billion-camping",
   "metadata": {},
   "outputs": [
    {
     "name": "stdout",
     "output_type": "stream",
     "text": [
      "     * \n",
      "    * * \n",
      "   * * * \n",
      "  * * * * \n",
      " * * * * * \n",
      "* * * * * * \n"
     ]
    }
   ],
   "source": [
    "#Ex.5\n",
    "\n",
    "for i in range(6):\n",
    "    for j in range(6-i-1):\n",
    "        print(end=\" \")\n",
    "        \n",
    "    for j in range(i+1):\n",
    "        print(\"*\", end=\" \")\n",
    "    print()"
   ]
  },
  {
   "cell_type": "markdown",
   "id": "stainless-vampire",
   "metadata": {},
   "source": [
    "5.1. Write a Python program to construct the following pattern:\n",
    "\n",
    "\n",
    "     * \n",
    "    * * \n",
    "   * * * \n",
    "  * * * * \n",
    " * * * * * \n",
    "* * * * * * \n",
    "* * * * * * \n",
    " * * * * * \n",
    "  * * * * \n",
    "   * * * \n",
    "    * * \n",
    "     * "
   ]
  },
  {
   "cell_type": "code",
   "execution_count": 6,
   "id": "hourly-worker",
   "metadata": {},
   "outputs": [
    {
     "name": "stdout",
     "output_type": "stream",
     "text": [
      "     * \n",
      "    * * \n",
      "   * * * \n",
      "  * * * * \n",
      " * * * * * \n",
      "* * * * * * \n",
      "* * * * * * \n",
      " * * * * * \n",
      "  * * * * \n",
      "   * * * \n",
      "    * * \n",
      "     * \n"
     ]
    }
   ],
   "source": [
    "#Ex. 5.1\n",
    "for i in range(6):\n",
    "    for j in range(6-i-1):\n",
    "        #print(end=\"&\")\n",
    "        print(end=\" \")\n",
    "        \n",
    "    for j in range(i+1):\n",
    "        print(\"*\",end=\" \")\n",
    "    print()\n",
    "        \n",
    "for i in range(7,1,-1):\n",
    "    for j in range(6-i+1):\n",
    "        #print(end=\"$\")\n",
    "        print(end=\" \")\n",
    "        \n",
    "    for j in range(i-1):\n",
    "        print(\"*\",end=\" \")\n",
    "    print()"
   ]
  },
  {
   "cell_type": "markdown",
   "id": "arranged-rachel",
   "metadata": {},
   "source": [
    "6) Write a program that finds the maximum number in this list:\n",
    "+ my_list = [1, 5, 8, 9, 11, 14, 19, 12]"
   ]
  },
  {
   "cell_type": "code",
   "execution_count": 7,
   "id": "sealed-stack",
   "metadata": {},
   "outputs": [
    {
     "name": "stdout",
     "output_type": "stream",
     "text": [
      "The max number of the list is=  19\n"
     ]
    }
   ],
   "source": [
    "#Ex.6\n",
    "my_list = [1, 5, 8, 9, 11, 14, 19, 12]\n",
    "for i in range(1):\n",
    "    x=my_list[i]\n",
    "    z=x\n",
    "    for j in range(8):\n",
    "        y=my_list[j]\n",
    "    \n",
    "        if y>z:\n",
    "            z=y\n",
    "    print(\"The max number of the list is= \",z)"
   ]
  },
  {
   "cell_type": "markdown",
   "id": "tender-election",
   "metadata": {},
   "source": [
    "7) write a program to repeat each item in the list 6 times:<br>\n",
    "\n",
    "My_list = [\"hello\", \"world\", \"Aug\", 2021]<br>\n",
    "\n",
    "The output should be like this:<br>\n",
    "\n",
    "hello hello hello hello hello hello <br>\n",
    "world world world world world world <br>\n",
    "Aug Aug Aug Aug Aug Aug <br>\n",
    "2021 2021 2021 2021 2021 2021 <br>"
   ]
  },
  {
   "cell_type": "code",
   "execution_count": 8,
   "id": "beginning-damages",
   "metadata": {},
   "outputs": [
    {
     "name": "stdout",
     "output_type": "stream",
     "text": [
      "hello hello hello hello hello hello \n",
      "world world world world world world \n",
      "Aug Aug Aug Aug Aug Aug \n",
      "2021 2021 2021 2021 2021 2021 \n"
     ]
    }
   ],
   "source": [
    "#Ex.7\n",
    "My_list = [\"hello\",\"world\",\"Aug\",2021]\n",
    "\n",
    "for j in range(4):\n",
    "    for i in range(6):\n",
    "        print(My_list[j],end=' ')\n",
    "    print()  "
   ]
  },
  {
   "cell_type": "markdown",
   "id": "southwest-appliance",
   "metadata": {},
   "source": [
    "8) write a program that multiply the items of list_1 to the items of list_2 when the two items are not equal.<br>\n",
    "for example if the list_1 and list_2 were like this:<br>\n",
    "List_1 = [3, 9, 7]<br>\n",
    "List_2 = [2, 3, 9]<br>\n",
    "\n",
    "The output should be like this<br>\n",
    "\n",
    "3 * 2 =  6<br>\n",
    "3 * 9 =  27<br>\n",
    "9 * 2 =  18<br>\n",
    "9 * 3 =  27<br>\n",
    "7 * 2 =  14<br>\n",
    "7 * 3 =  21<br>\n",
    "7 * 9 =  63<br>\n",
    "\n",
    "you should use these two lists for your assignments:<br>\n",
    "List_1 = [2, 5, 6, 7, 9]<br>\n",
    "List_2 = [2, 3, 5, 7, 6]<br>\n"
   ]
  },
  {
   "cell_type": "code",
   "execution_count": 9,
   "id": "retired-charge",
   "metadata": {},
   "outputs": [
    {
     "name": "stdout",
     "output_type": "stream",
     "text": [
      "2 * 3 = 6 \n",
      "2 * 5 = 10 \n",
      "2 * 7 = 14 \n",
      "2 * 9 = 18 \n",
      "5 * 2 = 10 \n",
      "5 * 3 = 15 \n",
      "5 * 7 = 35 \n",
      "5 * 9 = 45 \n",
      "6 * 2 = 12 \n",
      "6 * 3 = 18 \n",
      "6 * 5 = 30 \n",
      "6 * 7 = 42 \n",
      "6 * 9 = 54 \n",
      "7 * 2 = 14 \n",
      "7 * 3 = 21 \n",
      "7 * 5 = 35 \n",
      "7 * 9 = 63 \n",
      "9 * 2 = 18 \n",
      "9 * 3 = 27 \n",
      "9 * 5 = 45 \n",
      "9 * 7 = 63 \n"
     ]
    }
   ],
   "source": [
    "#Ex.8\n",
    "List_1 = [2, 5, 6, 7, 9]\n",
    "List_2 = [2, 3, 5, 7, 9]\n",
    "for i in range(5):\n",
    "    for j in range(5): \n",
    "        if List_1[i]!=List_2[j]:\n",
    "            print(List_1[i],\"*\",List_2[j],\"=\",List_1[i]*List_2[j],end=' ')\n",
    "            print()"
   ]
  }
 ],
 "metadata": {
  "kernelspec": {
   "display_name": "dl",
   "language": "python",
   "name": "dl"
  },
  "language_info": {
   "codemirror_mode": {
    "name": "ipython",
    "version": 3
   },
   "file_extension": ".py",
   "mimetype": "text/x-python",
   "name": "python",
   "nbconvert_exporter": "python",
   "pygments_lexer": "ipython3",
   "version": "3.6.12"
  }
 },
 "nbformat": 4,
 "nbformat_minor": 5
}
