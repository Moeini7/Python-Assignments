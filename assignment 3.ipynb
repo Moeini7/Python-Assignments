{
 "cells": [
  {
   "cell_type": "markdown",
   "id": "adverse-cement",
   "metadata": {},
   "source": [
    "1) Write a function that normalizes a vector (finds the unit vector). A vector can be normalized by dividing each unique component of the vector by its size. Your input for this function will be a List(vector). For example if your input is: <br>\n",
    "vector = [3, 6, 9] <br>\n",
    "output:\n",
    "[0.2672612419124244, 0.5345224838248488, 0.8017837257372732]\n"
   ]
  },
  {
   "cell_type": "code",
   "execution_count": 1,
   "id": "knowing-pound",
   "metadata": {},
   "outputs": [],
   "source": [
    "def normaliz(List):\n",
    "    newlist = []\n",
    "    a = 0\n",
    "    \n",
    "    for i in range(0,len(List)):\n",
    "        a = List[i]**2 + a\n",
    "    b = a**(1/2)\n",
    "    for j in range(0,len(List)):\n",
    "        newlist.append(List[j]/b)\n",
    "        \n",
    "    return newlist"
   ]
  },
  {
   "cell_type": "code",
   "execution_count": 2,
   "id": "pointed-villa",
   "metadata": {},
   "outputs": [
    {
     "data": {
      "text/plain": [
       "[0.2672612419124244, 0.5345224838248488, 0.8017837257372732]"
      ]
     },
     "execution_count": 2,
     "metadata": {},
     "output_type": "execute_result"
    }
   ],
   "source": [
    "X= [3,6,9]\n",
    "normaliz(X)"
   ]
  },
  {
   "cell_type": "markdown",
   "id": "danish-complaint",
   "metadata": {},
   "source": [
    "2) Write a function that calculates and returns the monthly payments for a loan. This function accepts three parameters in the exact order (principal, annual_interest_rate, duration): \n",
    "\n",
    "+ principal: The total amount of loan. Assume that the principal is a positive floating point number.\n",
    "\n",
    "+ annual_interest_rate: This is the percent interest rate per year. Assume that annual_interest_rate is a floating point number.\n",
    "(Notice that 4.5 means that the interest rate is 4.5 percent per year.)\n",
    "\n",
    "+ duration: number of years to pay the loan back. Assume that duration is a positive integer.\n",
    "\n",
    "To calculate the amount of monthly payment for the loan you should use the following equation\n",
    "\n",
    "    MonthlyPayment = Principal∗r(1+r)**n/((1+r)**n−1)\n",
    "\n",
    "Where:\n",
    "\n",
    "r is the monthly interest rate (shold be calculated by first dividing the annual_interest_rate by 100 and then divide the result by 12 to make it monthly).\n",
    "\n",
    "Notice that if the interest rate is equal to zero then the above equation will give you a ZeroDivisionError. In that case you should use the follwing equation:\n",
    "\n",
    "    MonthlyPayment = Principal/n\n",
    "\n",
    "n is the total number of monthly payments for the entire duration of the loan (Notice that n is equal to loan duration in years multiplied by 12).\n",
    "\n",
    "Your function should return the monthly payment as a floating point number.\n",
    "\n",
    "For Example if you enter : (1000.0, 4.5, 5) <br>\n",
    "The ouput would be : 18.643019241516996\n"
   ]
  },
  {
   "cell_type": "code",
   "execution_count": 3,
   "id": "religious-framing",
   "metadata": {},
   "outputs": [],
   "source": [
    "def MP(principal,annual_interest_rate,duration):\n",
    "    \n",
    "    n = duration*12\n",
    "    \n",
    "    if annual_interest_rate == 0:\n",
    "        \n",
    "        MonthlyPayment = principal/n\n",
    "        \n",
    "    else:\n",
    "        \n",
    "        r = (annual_interest_rate/100)/12\n",
    "        MonthlyPayment = principal*r*(1+r)**n/((1+r)**n-1)\n",
    "    \n",
    "    return MonthlyPayment"
   ]
  },
  {
   "cell_type": "code",
   "execution_count": 4,
   "id": "refined-sigma",
   "metadata": {},
   "outputs": [
    {
     "name": "stdout",
     "output_type": "stream",
     "text": [
      "Please enter principal: 1000.0\n",
      "Please enter annual interest rate: 4.5\n",
      "Please enter duraion in years: 5\n"
     ]
    },
    {
     "data": {
      "text/plain": [
       "18.643019241516996"
      ]
     },
     "execution_count": 4,
     "metadata": {},
     "output_type": "execute_result"
    }
   ],
   "source": [
    "principal = float(input('Please enter principal: '))\n",
    "annual_interest_rate = float(input('Please enter annual interest rate: '))\n",
    "duration = int(input('Please enter duraion in years: '))\n",
    "\n",
    "MP(principal,annual_interest_rate,duration)"
   ]
  },
  {
   "cell_type": "markdown",
   "id": "outside-weight",
   "metadata": {},
   "source": [
    "3) Write a function that calculates and returns the remaining loan balance.\n",
    "\n",
    "This function accepts four parameters in the exact order shown below:\n",
    "(principal, annual_interest_rate, duration , number_of_payments)\n",
    "\n",
    "principal: The total amount of loan. Assume that the principal is positive floating point number.\n",
    "    \n",
    "annual_interest_rate: This is the percent interest rate per year. Assume that annual_interest_rate is a floating point number. (Notice that 4.5 means that the interest rate is 4.5 percent per year.)\n",
    "duration: number of years to pay the loan back. Assume that duration is a positive integer.\n",
    "    \n",
    "number_of_payments: number of monthly payments that are already paid. Assume that number_of_payments is an integer.\n",
    "To calculate the reamining loan balance use the following equation\n",
    "\n",
    "    RemainingLoanBalance = Principal∗((1+r)**n−(1+r)**p)/((1+r)**n−1)\n",
    "\n",
    "Where:\n",
    "    \n",
    "r is the monthly interest rate. r should be calculated by first dividing the annual_interest_rate by 100 and then divide the result by 12 to make it\n",
    "monthly. Notice that if the interest rate is equal to zero then the above equation will give you a ZeroDivisionError. In that case you should use\n",
    "the follwing equation: \n",
    "    \n",
    "    RemainingLoanBalance=Principal*(1−p/n)\n",
    "    \n",
    "n is the total number of monthly payments for the entire duration of the loan. Notice that n is equal to loan duration in years multiplied by 12.\n",
    "\n",
    "p is the number of payments which are already made.\n",
    "\n",
    "Your function should return the remaining balance as a floating point number.\n",
    "\n",
    "For Example if someone enters:<br>\n",
    "\n",
    "Please enter principal: 2000<br>\n",
    "Please enter annual interest rate: 5<br>\n",
    "Please enter duraion in years: 5<br>\n",
    "Please enter the number of payments: 12<br>\n",
    "\n",
    "The output should be:<br>\n",
    "\n",
    "1638.8894940368032"
   ]
  },
  {
   "cell_type": "code",
   "execution_count": 5,
   "id": "north-damages",
   "metadata": {},
   "outputs": [],
   "source": [
    "def RLB(principal,annual_interest_rate,duration,number_of_payments):\n",
    "\n",
    "    \n",
    "    p = number_of_payments\n",
    "    n = duration*12\n",
    "    \n",
    "    if annual_interest_rate ==0:\n",
    "        RemainingLoanBalance=principal*(1-p/n)\n",
    "    else:\n",
    "        \n",
    "        r=(annual_interest_rate/100)/12\n",
    "        RemainingLoanBalance = principal*((1+r)**n-(1+r)**p)/((1+r)**n-1)\n",
    "    \n",
    "    return RemainingLoanBalance"
   ]
  },
  {
   "cell_type": "code",
   "execution_count": 6,
   "id": "czech-assistant",
   "metadata": {},
   "outputs": [
    {
     "name": "stdout",
     "output_type": "stream",
     "text": [
      "Please enter principal: 2000\n",
      "Please enter annual interest rate: 5\n",
      "Please enter duraion in years: 5\n",
      "Please enter the number of payments: 12\n"
     ]
    },
    {
     "data": {
      "text/plain": [
       "1638.8894940368032"
      ]
     },
     "execution_count": 6,
     "metadata": {},
     "output_type": "execute_result"
    }
   ],
   "source": [
    "principal = float(input('Please enter principal: '))\n",
    "annual_interest_rate = float(input('Please enter annual interest rate: '))\n",
    "duration = int(input('Please enter duraion in years: '))\n",
    "number_of_payments = int(input('Please enter the number of payments: '))\n",
    "\n",
    "RLB(principal,annual_interest_rate,duration,number_of_payments)"
   ]
  },
  {
   "cell_type": "markdown",
   "id": "certified-liverpool",
   "metadata": {},
   "source": [
    "4) Write a program for loan calculations.\n",
    "Your program should ask the user for three pieces of information\n",
    "(with three seperate input() functions:)\n",
    "\n",
    "+ The total amount of loan. Assume that the user enters a floating point number.\n",
    "+ Annual interest rate. Assume that the user enters a floating point number.\n",
    "(Notice that 4.5 means that the interest rate is 4.5 percent per year.)\n",
    "+ Total duration of loan in years. This is the number of years to pay the loan back. Assume that the user enters a positive integer.\n",
    "Also remember that the loan is paid back with monthly payments.\n",
    "\n",
    "Your Program should use the two functions that you implemented in\n",
    "Q2 and Q3 of this assignment and display the following\n",
    "information about the loan.\n",
    "\n",
    "In the first first line show the amount of loan and interest rate.\n",
    "In the second line show duration of the loan and monthly payment.\n",
    "In each of the following lines show the Loan balance and\n",
    "total amount paid for each year.\n",
    "\n",
    "    \n",
    "For Example if someone enters these numberes:<br>\n",
    "Enter loan amount: 2000<br>\n",
    "Enter annual interest rate (percent): 5<br>\n",
    "Enter loan duration in years: 12<br>\n",
    "\n",
    "The output would be:<br> \n",
    "    \n",
    "LOAN AMOUNT: 2000 INTEREST RATE (PERCENT): 5<br>\n",
    "DURATION (YEARS): 12 MONTHLY PAYMENT: 18<br>\n",
    "YEAR: 1 BALANCE: 1875 TOTAL PAYMENT 221<br>\n",
    "YEAR: 2 BALANCE: 1743 TOTAL PAYMENT 443<br>\n",
    "YEAR: 3 BALANCE: 1606 TOTAL PAYMENT 665<br>\n",
    "YEAR: 4 BALANCE: 1461 TOTAL PAYMENT 887<br>\n",
    "YEAR: 5 BALANCE: 1308 TOTAL PAYMENT 1109<br>\n",
    "YEAR: 6 BALANCE: 1148 TOTAL PAYMENT 1331<br>\n",
    "YEAR: 7 BALANCE: 980 TOTAL PAYMENT 1553<br>\n",
    "YEAR: 8 BALANCE: 803 TOTAL PAYMENT 1775<br>\n",
    "YEAR: 9 BALANCE: 617 TOTAL PAYMENT 1997<br>\n",
    "YEAR: 10 BALANCE: 421 TOTAL PAYMENT 2219<br>\n",
    "YEAR: 11 BALANCE: 216 TOTAL PAYMENT 2441<br>\n",
    "YEAR: 12 BALANCE: 0 TOTAL PAYMENT 2663  <br>"
   ]
  },
  {
   "cell_type": "code",
   "execution_count": 7,
   "id": "requested-camcorder",
   "metadata": {},
   "outputs": [],
   "source": [
    "def inf_about_the_loan(loan_amount,interest_rate,duration):\n",
    "\n",
    "    n=duration*12\n",
    "    \n",
    "    print()\n",
    "    print('LOAN AMOUNT: ',loan_amount,',','INTEREST RATE (PERCENT): ',interest_rate)\n",
    "    print('DURATION (YEARS): ',duration,',',  'MONTHLY PAYMENT: ',n)\n",
    "    print()\n",
    "    \n",
    "    months=12\n",
    "    \n",
    "    for i in range(1,13):\n",
    "        \n",
    "        Total_payment_year = MP(loan_amount,interest_rate,duration)*months\n",
    "        Balance = RLB(loan_amount,interest_rate,duration,months)\n",
    "        months=months+12\n",
    "        print('YEAR: ',i,'BALANCE: ',int(Balance),'TOTAL PAYMENT: ',int(Total_payment_year))\n",
    "        print('-'*len('year'))"
   ]
  },
  {
   "cell_type": "code",
   "execution_count": 8,
   "id": "mathematical-korean",
   "metadata": {},
   "outputs": [
    {
     "name": "stdout",
     "output_type": "stream",
     "text": [
      "Enter loan amount: 2000\n",
      "Enter annual interest rate (percent): 5\n",
      "Please enter duraion in years: 12\n",
      "\n",
      "LOAN AMOUNT:  2000.0 , INTEREST RATE (PERCENT):  5.0\n",
      "DURATION (YEARS):  12 , MONTHLY PAYMENT:  144\n",
      "\n",
      "YEAR:  1 BALANCE:  1875 TOTAL PAYMENT:  221\n",
      "----\n",
      "YEAR:  2 BALANCE:  1743 TOTAL PAYMENT:  443\n",
      "----\n",
      "YEAR:  3 BALANCE:  1606 TOTAL PAYMENT:  665\n",
      "----\n",
      "YEAR:  4 BALANCE:  1461 TOTAL PAYMENT:  887\n",
      "----\n",
      "YEAR:  5 BALANCE:  1308 TOTAL PAYMENT:  1109\n",
      "----\n",
      "YEAR:  6 BALANCE:  1148 TOTAL PAYMENT:  1331\n",
      "----\n",
      "YEAR:  7 BALANCE:  980 TOTAL PAYMENT:  1553\n",
      "----\n",
      "YEAR:  8 BALANCE:  803 TOTAL PAYMENT:  1775\n",
      "----\n",
      "YEAR:  9 BALANCE:  617 TOTAL PAYMENT:  1997\n",
      "----\n",
      "YEAR:  10 BALANCE:  421 TOTAL PAYMENT:  2219\n",
      "----\n",
      "YEAR:  11 BALANCE:  216 TOTAL PAYMENT:  2441\n",
      "----\n",
      "YEAR:  12 BALANCE:  0 TOTAL PAYMENT:  2663\n",
      "----\n"
     ]
    }
   ],
   "source": [
    "loan_amount = float(input('Enter loan amount: '))\n",
    "interest_rate = float(input('Enter annual interest rate (percent): '))\n",
    "duration = int(input('Please enter duraion in years: '))\n",
    "\n",
    "inf_about_the_loan(loan_amount,interest_rate,duration)"
   ]
  },
  {
   "cell_type": "markdown",
   "id": "charming-going",
   "metadata": {},
   "source": [
    "5) Write a function that receives a list of integers as a parameter. Your function must return the sum of the odd numbers in this list. If there are no odd numbers in this list, your function must return 0 (zero number) as a sum."
   ]
  },
  {
   "cell_type": "code",
   "execution_count": 9,
   "id": "becoming-password",
   "metadata": {},
   "outputs": [],
   "source": [
    "def sum_odd(List):\n",
    "    Sum = 0\n",
    "    \n",
    "    for items in List:\n",
    "        if items%2 != 0:\n",
    "            Sum = items + Sum\n",
    "    return Sum"
   ]
  },
  {
   "cell_type": "code",
   "execution_count": 10,
   "id": "modular-potter",
   "metadata": {},
   "outputs": [
    {
     "data": {
      "text/plain": [
       "48"
      ]
     },
     "execution_count": 10,
     "metadata": {},
     "output_type": "execute_result"
    }
   ],
   "source": [
    "AA = [2,8,47,1,6,92,6]\n",
    "sum_odd(AA)"
   ]
  },
  {
   "cell_type": "markdown",
   "id": "timely-virus",
   "metadata": {},
   "source": [
    "6) Write a function that takes a number and returns True if the number is a perfect number; otherwise returns False. a perfect number is a positive integer that is equal to the sum of its positive divisors, excluding the number itself. For instance, 6 has divisors 1, 2 and 3 (excluding itself), and 1 + 2 + 3 = 6, so 6 is a perfect number."
   ]
  },
  {
   "cell_type": "code",
   "execution_count": 11,
   "id": "soviet-former",
   "metadata": {},
   "outputs": [],
   "source": [
    "def is_perfect(x):\n",
    "    Sum = 0\n",
    "    perfect = False\n",
    "    \n",
    "    for i in range(1,x):\n",
    "        if x%i == 0:\n",
    "            Sum = i+Sum\n",
    "        if Sum == x:\n",
    "            perfect = True\n",
    "            \n",
    "    return perfect"
   ]
  },
  {
   "cell_type": "code",
   "execution_count": 14,
   "id": "historic-colors",
   "metadata": {},
   "outputs": [
    {
     "data": {
      "text/plain": [
       "True"
      ]
     },
     "execution_count": 14,
     "metadata": {},
     "output_type": "execute_result"
    }
   ],
   "source": [
    "is_perfect(6)"
   ]
  },
  {
   "cell_type": "markdown",
   "id": "sharp-stand",
   "metadata": {},
   "source": [
    "7) Write a function that takes two number and returns their least common multiple.<br>\n",
    "For Example lcm(4,6) is 12"
   ]
  },
  {
   "cell_type": "code",
   "execution_count": 15,
   "id": "ambient-celebration",
   "metadata": {},
   "outputs": [],
   "source": [
    "def lcm(x,y):\n",
    "    \n",
    "    list_1 = []\n",
    "    list_2 = []\n",
    "    new_list = []\n",
    "    \n",
    "    for i in range(1,x+1):\n",
    "        if x%i == 0:\n",
    "            list_1.append(i)\n",
    "\n",
    "    for i in range(1,y+1):\n",
    "        if y%i == 0:\n",
    "            list_2.append(i)\n",
    "\n",
    "    for i in range(len(list_1)):\n",
    "        for j in list_2:\n",
    "            if list_1[i] == j:\n",
    "                new_list.append(list_1[i])\n",
    "     \n",
    "    #greatest common divisor = max(new_list)\n",
    "    \n",
    "    return((x*y)/max(new_list))       "
   ]
  },
  {
   "cell_type": "code",
   "execution_count": 16,
   "id": "sixth-wholesale",
   "metadata": {},
   "outputs": [
    {
     "data": {
      "text/plain": [
       "12.0"
      ]
     },
     "execution_count": 16,
     "metadata": {},
     "output_type": "execute_result"
    }
   ],
   "source": [
    "lcm(4,6)"
   ]
  },
  {
   "cell_type": "markdown",
   "id": "closing-assurance",
   "metadata": {},
   "source": [
    "8) Write a function that receives two positive integers a and b (a is less than b) and returns a list of odd numbers between a and b (including a and b if applicable) in descending order."
   ]
  },
  {
   "cell_type": "code",
   "execution_count": 17,
   "id": "treated-programming",
   "metadata": {},
   "outputs": [],
   "source": [
    "def OddNum(a,b):\n",
    "    \n",
    "    List = []\n",
    "   \n",
    "    for i in range(b,a-1,-1):\n",
    "        if i%2 != 0:\n",
    "            List.append(i)\n",
    "    return List  "
   ]
  },
  {
   "cell_type": "code",
   "execution_count": 18,
   "id": "paperback-dutch",
   "metadata": {},
   "outputs": [
    {
     "data": {
      "text/plain": [
       "[31, 29, 27, 25, 23, 21, 19, 17, 15, 13, 11]"
      ]
     },
     "execution_count": 18,
     "metadata": {},
     "output_type": "execute_result"
    }
   ],
   "source": [
    "OddNum(11,31)"
   ]
  },
  {
   "cell_type": "markdown",
   "id": "adopted-sullivan",
   "metadata": {},
   "source": [
    "#### OPTIONAL\n",
    "9) Write a function that receives a list of integers and returns a new list that is the sorted (ascending) version of the original list. You should not use built-in sort () or sorted () functions. Note that the original list should not be changed."
   ]
  },
  {
   "cell_type": "code",
   "execution_count": 19,
   "id": "superior-jerusalem",
   "metadata": {},
   "outputs": [],
   "source": [
    "def sort_list(List):\n",
    "\n",
    "    for i in range(len(List)):\n",
    "        for j in range(i+1,len(List)):\n",
    "            if List[i]>List[j]:\n",
    "                \n",
    "                A = List[i]\n",
    "                B = List[j]\n",
    "                List[i] = B\n",
    "                List[j] = A\n",
    "            \n",
    "    return List"
   ]
  },
  {
   "cell_type": "code",
   "execution_count": 20,
   "id": "offshore-discharge",
   "metadata": {},
   "outputs": [
    {
     "data": {
      "text/plain": [
       "[-108, -87, 0, 12, 25, 64, 845]"
      ]
     },
     "execution_count": 20,
     "metadata": {},
     "output_type": "execute_result"
    }
   ],
   "source": [
    "List2 = [64, 25, 12,-87,-108, 0, 845]\n",
    "\n",
    "sort_list(List2)"
   ]
  },
  {
   "cell_type": "markdown",
   "id": "hourly-kingdom",
   "metadata": {},
   "source": [
    "10) Write a function that receives two input lists and returns a new list that contains only unique elements from both lists."
   ]
  },
  {
   "cell_type": "code",
   "execution_count": 21,
   "id": "facial-imperial",
   "metadata": {},
   "outputs": [],
   "source": [
    "def unique_list(List1,List2):\n",
    "    \n",
    "    List1.extend(List2)\n",
    "    unique_list = []\n",
    "    \n",
    "    for i in List1:\n",
    "        if i not in unique_list:\n",
    "            unique_list.append(i)\n",
    "            \n",
    "    return unique_list"
   ]
  },
  {
   "cell_type": "code",
   "execution_count": 22,
   "id": "cleared-database",
   "metadata": {},
   "outputs": [
    {
     "data": {
      "text/plain": [
       "[1, 5, 6, 'Ali', 'Iman', 88, 3, 4, 97, 'Reza', 'Mehdi', -54]"
      ]
     },
     "execution_count": 22,
     "metadata": {},
     "output_type": "execute_result"
    }
   ],
   "source": [
    "List_1=[1,5,6,\"Ali\",\"Iman\",\"Ali\",88,5]\n",
    "List_2=[3,4,5,97,\"Reza\",\"Mehdi\",\"Iman\",-54]\n",
    "\n",
    "unique_list(List_1,List_2)"
   ]
  },
  {
   "cell_type": "markdown",
   "id": "gross-cedar",
   "metadata": {},
   "source": [
    "11) Write a function called that receives a positive integer n and returns a list of (in ascending order) all prime numbers between 2 and n (including 2 but not n)"
   ]
  },
  {
   "cell_type": "code",
   "execution_count": 23,
   "id": "fundamental-washington",
   "metadata": {},
   "outputs": [],
   "source": [
    "def prime_list(x):\n",
    "    \n",
    "    List_1=[]\n",
    "    sum=0\n",
    "    \n",
    "    for i in range(2,x):#5\n",
    "        for j in range(1,i):#1\n",
    "            if i%j == 0:\n",
    "                sum = sum+1\n",
    "        if sum == 1:\n",
    "            List_1.append(i)\n",
    "        sum = 0\n",
    "    \n",
    "    return(List_1)"
   ]
  },
  {
   "cell_type": "code",
   "execution_count": 24,
   "id": "responsible-marijuana",
   "metadata": {},
   "outputs": [
    {
     "data": {
      "text/plain": [
       "[2, 3, 5, 7, 11, 13, 17, 19, 23, 29, 31, 37, 41, 43, 47]"
      ]
     },
     "execution_count": 24,
     "metadata": {},
     "output_type": "execute_result"
    }
   ],
   "source": [
    "prime_list(53)"
   ]
  },
  {
   "cell_type": "code",
   "execution_count": null,
   "id": "presidential-wayne",
   "metadata": {},
   "outputs": [],
   "source": []
  }
 ],
 "metadata": {
  "kernelspec": {
   "display_name": "dl",
   "language": "python",
   "name": "dl"
  },
  "language_info": {
   "codemirror_mode": {
    "name": "ipython",
    "version": 3
   },
   "file_extension": ".py",
   "mimetype": "text/x-python",
   "name": "python",
   "nbconvert_exporter": "python",
   "pygments_lexer": "ipython3",
   "version": "3.6.12"
  }
 },
 "nbformat": 4,
 "nbformat_minor": 5
}
