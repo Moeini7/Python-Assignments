{
 "cells": [
  {
   "cell_type": "markdown",
   "id": "sealed-liabilities",
   "metadata": {},
   "source": [
    "1) Write a function that takes a string containing the alphabetic characters as the input argument and returns True if it is a Palindrome string. A Palindrome is a string whose letters are the same from beginning to end and vice versa. Note that uppercase and lowercase letters do not matter here, for example: a lowercase character can be thought of as a uppercase character.<br>\n",
    "For Example : madam"
   ]
  },
  {
   "cell_type": "code",
   "execution_count": 1,
   "id": "mighty-longer",
   "metadata": {},
   "outputs": [],
   "source": [
    "def is_palindrome(String):\n",
    "    \n",
    "    String=String.upper()\n",
    "    \n",
    "    Palindrome_string = False\n",
    "    \n",
    "    if String[0] == String[len(String)-1]:\n",
    "        Palindrome_string = True\n",
    "        \n",
    "    return Palindrome_string"
   ]
  },
  {
   "cell_type": "code",
   "execution_count": 2,
   "id": "spatial-baptist",
   "metadata": {},
   "outputs": [
    {
     "data": {
      "text/plain": [
       "True"
      ]
     },
     "execution_count": 2,
     "metadata": {},
     "output_type": "execute_result"
    }
   ],
   "source": [
    "is_palindrome('madam')"
   ]
  },
  {
   "cell_type": "code",
   "execution_count": 3,
   "id": "caroline-breed",
   "metadata": {},
   "outputs": [
    {
     "data": {
      "text/plain": [
       "False"
      ]
     },
     "execution_count": 3,
     "metadata": {},
     "output_type": "execute_result"
    }
   ],
   "source": [
    "is_palindrome('Stanford')"
   ]
  },
  {
   "cell_type": "markdown",
   "id": "broadband-fishing",
   "metadata": {},
   "source": [
    "2) Write a function that returns the total number of vowels in an input string that contain alphabetic characters. Note that uppercase and lowercase letters do not matter here. For this problem, vowels A, E, I, O, U are considered."
   ]
  },
  {
   "cell_type": "code",
   "execution_count": 4,
   "id": "organized-payment",
   "metadata": {},
   "outputs": [],
   "source": [
    "def vowels(String):\n",
    "    \n",
    "    A=0\n",
    "    E=0\n",
    "    I=0\n",
    "    O=0\n",
    "    U=0\n",
    "    \n",
    "    String=String.upper()\n",
    "    \n",
    "    for char in String:\n",
    "        if char == 'A':\n",
    "            A = A+1\n",
    "        if char == 'E':\n",
    "            E = E+1\n",
    "        if char == 'I':\n",
    "            I = I+1\n",
    "        if char == 'O':\n",
    "            O = O+1\n",
    "        if char == 'U':\n",
    "            U = U+1\n",
    "    print('The total number of vowels in this string is:',A+E+I+O+U,'\\nAlso:')\n",
    "    print('The number of each vowels in this string is as follows:','\\n  A = ',A,'\\n  E = ',E,'\\n  I = ',I,'\\n  O = ',O,'\\n  U = ',U)"
   ]
  },
  {
   "cell_type": "code",
   "execution_count": 5,
   "id": "neural-yahoo",
   "metadata": {},
   "outputs": [
    {
     "name": "stdout",
     "output_type": "stream",
     "text": [
      "The total number of vowels in this string is: 9 \n",
      "Also:\n",
      "The number of each vowels in this string is as follows: \n",
      "  A =  2 \n",
      "  E =  2 \n",
      "  I =  1 \n",
      "  O =  3 \n",
      "  U =  1\n"
     ]
    }
   ],
   "source": [
    "vowels('Congratulations everybody')"
   ]
  },
  {
   "cell_type": "markdown",
   "id": "difficult-subsection",
   "metadata": {},
   "source": [
    "3) Write a function that takes a string and a character as input and returns the number of times the character is repeated in the string. Note that uppercase and lowercase letters do not matter here"
   ]
  },
  {
   "cell_type": "code",
   "execution_count": 6,
   "id": "valid-ethernet",
   "metadata": {},
   "outputs": [],
   "source": [
    "def char_in_string(String,char):\n",
    "    \n",
    "    String=String.lower()\n",
    "    char=char.lower()\n",
    "    c=0\n",
    "    \n",
    "    for i in String:\n",
    "        if i == char:\n",
    "            c = c+1\n",
    "\n",
    "    print('Character',char,'is repeated in this string',c,'time/times')"
   ]
  },
  {
   "cell_type": "code",
   "execution_count": 7,
   "id": "excited-sheet",
   "metadata": {},
   "outputs": [
    {
     "name": "stdout",
     "output_type": "stream",
     "text": [
      "Character r is repeated in this string 4 time/times\n"
     ]
    }
   ],
   "source": [
    "char_in_string('Congratulations everybody, great work','r')"
   ]
  },
  {
   "cell_type": "markdown",
   "id": "intimate-pioneer",
   "metadata": {},
   "source": [
    "4) Write a function that takes a string and a character as input and returns the total number of words in the string that start with a given character.\n",
    "<br>For Example:<br>\n",
    "String = \"Ali is a doctor who works in the american hospital\"<br>\n",
    "character = a<br>\n",
    "output = 3  # ali, a, american"
   ]
  },
  {
   "cell_type": "code",
   "execution_count": 8,
   "id": "concrete-agenda",
   "metadata": {},
   "outputs": [],
   "source": [
    "def words_in_string(String,char):\n",
    "    c=0\n",
    "    words=''\n",
    "    String = String.lower()\n",
    "    char = char.lower()\n",
    "    String = String.split()\n",
    "\n",
    "    for word in String:\n",
    "        if word[0] == char:\n",
    "            c += 1\n",
    "            if len(words)>1:\n",
    "                words = words + ', ' +word\n",
    "            else:\n",
    "                words = words + word\n",
    "    \n",
    "    print(c,'word/words in this string start/starts with:',char)\n",
    "    print('which include:',words)"
   ]
  },
  {
   "cell_type": "code",
   "execution_count": 9,
   "id": "paperback-leone",
   "metadata": {},
   "outputs": [
    {
     "name": "stdout",
     "output_type": "stream",
     "text": [
      "3 word/words in this string start/starts with: a\n",
      "which include: ali, a, american\n"
     ]
    }
   ],
   "source": [
    "String4 = \"Ali is a doctor who works in the american hospital\"\n",
    "char4 = 'a'\n",
    "\n",
    "words_in_string(String4,char4)"
   ]
  },
  {
   "cell_type": "markdown",
   "id": "proper-spare",
   "metadata": {},
   "source": [
    "5) Write a function that takes a string containing alphabetic characters as the input argument and returns the most frequent character. Ignore whitespace i.e. do not count any whitespace as a character. Note that one lowercase character equals one uppercase character. "
   ]
  },
  {
   "cell_type": "code",
   "execution_count": 13,
   "id": "hybrid-oxide",
   "metadata": {},
   "outputs": [],
   "source": [
    "def char_count(String):\n",
    "    \n",
    "    c=0\n",
    "    new_string=String.replace(' ','')\n",
    "    new_string=new_string.lower()\n",
    "    char_most_rep=''\n",
    "    \n",
    "    for char in new_string:\n",
    "        count_char = new_string.count(char)\n",
    "        \n",
    "        if count_char==c:\n",
    "            c = count_char\n",
    "            if char not in char_most_rep:\n",
    "                \n",
    "                char_most_rep = char\n",
    "        \n",
    "        if count_char>c:\n",
    "            c = count_char\n",
    "            char_most_rep = char\n",
    "    \n",
    "    print('The most frequent character in this string is:',char_most_rep, '\\nand', '\\nThe number of repetition is:',c,'times')\n",
    "    "
   ]
  },
  {
   "cell_type": "code",
   "execution_count": 16,
   "id": "substantial-experiment",
   "metadata": {},
   "outputs": [
    {
     "name": "stdout",
     "output_type": "stream",
     "text": [
      "The most frequent character in this string is: t \n",
      "and \n",
      "The number of repetition is: 4 times\n"
     ]
    }
   ],
   "source": [
    "String5='I am a Msc Student at Shiraz Univrsity'\n",
    "\n",
    "char_count(String5)"
   ]
  },
  {
   "cell_type": "code",
   "execution_count": 17,
   "id": "limited-lucas",
   "metadata": {},
   "outputs": [
    {
     "name": "stdout",
     "output_type": "stream",
     "text": [
      "The most frequent character in this string is: z \n",
      "and \n",
      "The number of repetition is: 4 times\n"
     ]
    }
   ],
   "source": [
    "String5='iiii bbbb cccc zzzz'\n",
    "\n",
    "char_count(String5)"
   ]
  },
  {
   "cell_type": "markdown",
   "id": "residential-handle",
   "metadata": {},
   "source": [
    "6) Write a function that receives an input string and reverses the input string. Keep in mind that inversion must be done for each character individually. \n",
    "<br>For Example:<br>\n",
    "input string is = \"Hello Wolrd. I Am Learning Python\"<br>\n",
    "output= 'NOHTYp GNINRAEl Ma i .DRLOw OLLEh'<br>"
   ]
  },
  {
   "cell_type": "code",
   "execution_count": 18,
   "id": "still-reputation",
   "metadata": {},
   "outputs": [],
   "source": [
    "def reverse_string_1(String):\n",
    "    reverse=''\n",
    "    for char in range(len(String)-1,-1,-1):\n",
    "        reverse=reverse+String[char]\n",
    "    return reverse"
   ]
  },
  {
   "cell_type": "code",
   "execution_count": 19,
   "id": "anonymous-mainstream",
   "metadata": {},
   "outputs": [
    {
     "data": {
      "text/plain": [
       "'nohtyP gninraeL mA I .drloW olleH'"
      ]
     },
     "execution_count": 19,
     "metadata": {},
     "output_type": "execute_result"
    }
   ],
   "source": [
    "String6 = \"Hello Wolrd. I Am Learning Python\"\n",
    "reverse_string_1(String6)"
   ]
  },
  {
   "cell_type": "markdown",
   "id": "macro-swaziland",
   "metadata": {},
   "source": [
    "7) Write a function that receives a string of words containing alphabetic characters separated by spaces and returns a string in which each word is inverted from the input string while maintaining the order of the words in the input string. The length of the input string must be equal to the length of the output string. For example: there should be no extra sequences or more space in your output string.\n",
    "<br>For Example :<br>\n",
    "Input string = \"I am learning Python\"<br>\n",
    "Output = 'I ma gninrael nohtyP'<br>\n"
   ]
  },
  {
   "cell_type": "code",
   "execution_count": 20,
   "id": "becoming-honolulu",
   "metadata": {},
   "outputs": [],
   "source": [
    "def reverse_string_2(String):\n",
    "    String = String.split()\n",
    "    reverse=''\n",
    "    for word in String:\n",
    "        for i in range(len(word)-1,-1,-1):\n",
    "            reverse=reverse+word[i]\n",
    "        reverse=reverse+' '\n",
    "    return reverse"
   ]
  },
  {
   "cell_type": "code",
   "execution_count": 21,
   "id": "civilian-toronto",
   "metadata": {},
   "outputs": [
    {
     "data": {
      "text/plain": [
       "'I ma gninrael nohtyP '"
      ]
     },
     "execution_count": 21,
     "metadata": {},
     "output_type": "execute_result"
    }
   ],
   "source": [
    "String7 = \"I am learning Python\"\n",
    "reverse_string_2(String7)"
   ]
  },
  {
   "cell_type": "markdown",
   "id": "flush-desperate",
   "metadata": {},
   "source": [
    "8) Write a function that accepts an input string and removes all the leading whitespace of the string and\n",
    "returns it without using .strip().\n"
   ]
  },
  {
   "cell_type": "code",
   "execution_count": 22,
   "id": "dental-musical",
   "metadata": {},
   "outputs": [],
   "source": [
    "def strip_list(String):\n",
    "    Strip_list=''\n",
    "    for i in range(len(String)):\n",
    "        if String[i] != ' ':\n",
    "            Strip_list = Strip_list + String[i]\n",
    "    return Strip_list"
   ]
  },
  {
   "cell_type": "code",
   "execution_count": 23,
   "id": "suitable-norfolk",
   "metadata": {},
   "outputs": [
    {
     "data": {
      "text/plain": [
       "'pYthOn'"
      ]
     },
     "execution_count": 23,
     "metadata": {},
     "output_type": "execute_result"
    }
   ],
   "source": [
    "String8 = \"                               pYthOn      \"\n",
    "strip_list(String8)"
   ]
  },
  {
   "cell_type": "markdown",
   "id": "universal-alberta",
   "metadata": {},
   "source": [
    "9) Write a function that takes two strings as input arguments and returns the following values:\n",
    "• Return zero if the two strings exactly match.\n",
    "• If two strings are the same length and do not match in only one character, return 1.\n",
    "• If two strings are not the same length or do not match in two or more characters, return 2.\n",
    "Uppercase letters are considered as lowercase letters. Here are some examples:\n",
    "\n",
    "|String1 | String2 |output|\n",
    "| --- | --- | --- |\n",
    "|Python | Julia| 2|\n",
    "|Hello World\t|   hellooWorld  |    1|\n",
    "|door | dor | 2 |\n",
    "|Lion | lion | 0|"
   ]
  },
  {
   "cell_type": "code",
   "execution_count": 24,
   "id": "waiting-developer",
   "metadata": {},
   "outputs": [],
   "source": [
    "def similarity(String1,String2):\n",
    "    \n",
    "    String1 = String1.lower()\n",
    "    String2 = String2.lower()\n",
    "#---------------------1---------------------------------------------------    \n",
    "    if String1 == String2:\n",
    "        print('0')\n",
    "#----------------------2---------------------------------------------------\n",
    "\n",
    "    elif len(String1) == len(String2):\n",
    "        c3=0\n",
    "               \n",
    "        for i in range(len(String1)):\n",
    "            if String1[i] != String2[i]:\n",
    "                c3+=1\n",
    "                    \n",
    "        if c3 == 1:\n",
    "            print('1')\n",
    "        else:\n",
    "            print('2')\n",
    "        \n",
    "#--------------------3--------------------------------------------------\n",
    "    elif len(String1) != len(String2):\n",
    "        print('2')"
   ]
  },
  {
   "cell_type": "code",
   "execution_count": 25,
   "id": "virgin-warehouse",
   "metadata": {},
   "outputs": [
    {
     "name": "stdout",
     "output_type": "stream",
     "text": [
      "0\n"
     ]
    }
   ],
   "source": [
    "String9_1='lion'\n",
    "String9_2='LiOn'\n",
    "\n",
    "similarity(String9_1,String9_2)"
   ]
  },
  {
   "cell_type": "code",
   "execution_count": 26,
   "id": "thick-liverpool",
   "metadata": {},
   "outputs": [
    {
     "name": "stdout",
     "output_type": "stream",
     "text": [
      "1\n"
     ]
    }
   ],
   "source": [
    "String9_1='Hello'\n",
    "String9_2='hell '\n",
    "\n",
    "similarity(String9_1,String9_2)"
   ]
  },
  {
   "cell_type": "code",
   "execution_count": 27,
   "id": "alpine-mortality",
   "metadata": {},
   "outputs": [
    {
     "name": "stdout",
     "output_type": "stream",
     "text": [
      "2\n"
     ]
    }
   ],
   "source": [
    "String9_1='Hello  orld'\n",
    "String9_2='hellooworld'\n",
    "\n",
    "similarity(String9_1,String9_2)"
   ]
  },
  {
   "cell_type": "code",
   "execution_count": 28,
   "id": "bearing-plant",
   "metadata": {},
   "outputs": [
    {
     "name": "stdout",
     "output_type": "stream",
     "text": [
      "2\n"
     ]
    }
   ],
   "source": [
    "String9_1='Julia'\n",
    "String9_2='Python'\n",
    "\n",
    "similarity(String9_1,String9_2)"
   ]
  },
  {
   "cell_type": "markdown",
   "id": "blank-cycle",
   "metadata": {},
   "source": [
    "10) Write a function that takes two strings as parameters, and returns True if the two strings have the same family, otherwise returns False. Two strings are family if one string can be created exactly by rearranging the characters in the other string. For example, the \"Orchestra\" and \"Carthorse\" strings are family because each can be created exactly by rearranging the characters in the other. Note that capitalization is not important here."
   ]
  },
  {
   "cell_type": "code",
   "execution_count": 29,
   "id": "sustained-intention",
   "metadata": {},
   "outputs": [],
   "source": [
    "def is_family_strings(String1,String2):\n",
    "    \n",
    "    String1 = String1.lower()\n",
    "    String2 = String2.lower()\n",
    "\n",
    "    new_string1=''\n",
    "    new_string2=''\n",
    "#----------------------------------------------------------------------\n",
    "#For removing the characters that are repeated more than 1 time:    \n",
    "    for char1 in String1:\n",
    "        if char1 not in new_string1:\n",
    "            new_string1 = new_string1+char1\n",
    "        \n",
    "    for char2 in String2:\n",
    "        if char2 not in new_string2:\n",
    "            new_string2 = new_string2+char2\n",
    "#-----------------------------------------------------------------------  \n",
    "    c=0\n",
    "    famiy_Strings = False\n",
    "    if len(new_string1) == len(new_string2):\n",
    "        for i in range(len(new_string1)):\n",
    "            for j in range(len(new_string2)):\n",
    "                if new_string1[i] == new_string2[j]:\n",
    "                    c+=1\n",
    "    if c == len(new_string1):# or: if c == len(new_string2):\n",
    "        famiy_Strings=True\n",
    "                \n",
    "    return famiy_Strings"
   ]
  },
  {
   "cell_type": "code",
   "execution_count": 30,
   "id": "colored-release",
   "metadata": {},
   "outputs": [
    {
     "data": {
      "text/plain": [
       "True"
      ]
     },
     "execution_count": 30,
     "metadata": {},
     "output_type": "execute_result"
    }
   ],
   "source": [
    "String10_1 = 'Carthorse'\n",
    "String10_2 = 'Orchestra'\n",
    "\n",
    "is_family_strings(String10_1,String10_2)"
   ]
  },
  {
   "cell_type": "code",
   "execution_count": 31,
   "id": "closing-freight",
   "metadata": {},
   "outputs": [
    {
     "data": {
      "text/plain": [
       "False"
      ]
     },
     "execution_count": 31,
     "metadata": {},
     "output_type": "execute_result"
    }
   ],
   "source": [
    "String10_1 = 'MohammadAle'\n",
    "String10_2 = 'AliMohammad'\n",
    "\n",
    "is_family_strings(String10_1,String10_2)"
   ]
  }
 ],
 "metadata": {
  "kernelspec": {
   "display_name": "dl",
   "language": "python",
   "name": "dl"
  },
  "language_info": {
   "codemirror_mode": {
    "name": "ipython",
    "version": 3
   },
   "file_extension": ".py",
   "mimetype": "text/x-python",
   "name": "python",
   "nbconvert_exporter": "python",
   "pygments_lexer": "ipython3",
   "version": "3.6.12"
  }
 },
 "nbformat": 4,
 "nbformat_minor": 5
}
