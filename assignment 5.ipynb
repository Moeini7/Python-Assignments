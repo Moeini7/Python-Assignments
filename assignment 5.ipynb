{
 "cells": [
  {
   "cell_type": "markdown",
   "id": "studied-pointer",
   "metadata": {},
   "source": [
    "1) Write a function that takes a two-dimensional list and then returns the mean"
   ]
  },
  {
   "cell_type": "code",
   "execution_count": 3,
   "id": "clear-soccer",
   "metadata": {},
   "outputs": [],
   "source": [
    "def mean_of_items_in_list(list1):\n",
    "    \n",
    "    sum1=0\n",
    "    n=0\n",
    "    \n",
    "    for i in list1:\n",
    "        for j in i:\n",
    "            sum1 = j+sum1\n",
    "            n+=1\n",
    "        \n",
    "    mean1 = sum1/n\n",
    "    return mean1"
   ]
  },
  {
   "cell_type": "code",
   "execution_count": 6,
   "id": "classical-smile",
   "metadata": {},
   "outputs": [],
   "source": [
    "list1 = [[5.2,6,8],[91.4,80,62],[24,45.8,4]]"
   ]
  },
  {
   "cell_type": "code",
   "execution_count": 7,
   "id": "tropical-transportation",
   "metadata": {},
   "outputs": [
    {
     "data": {
      "text/plain": [
       "36.26666666666667"
      ]
     },
     "execution_count": 7,
     "metadata": {},
     "output_type": "execute_result"
    }
   ],
   "source": [
    "mean_of_items_in_list(list1)"
   ]
  },
  {
   "cell_type": "markdown",
   "id": "textile-negative",
   "metadata": {},
   "source": [
    "2) Write a function that takes a two-dimensional list and returns the list containing the sum of each row. You can assume that the number of columns in each row is the same."
   ]
  },
  {
   "cell_type": "code",
   "execution_count": 13,
   "id": "shaped-portable",
   "metadata": {},
   "outputs": [],
   "source": [
    "def sum_of_each_row1(list1):\n",
    "    \n",
    "    sum1=0\n",
    "    new_list = []\n",
    "    \n",
    "    for i in list1:\n",
    "        for j in i:\n",
    "            sum1 = j+sum1\n",
    "        new_list.append(sum1)\n",
    "        sum1=0\n",
    "    \n",
    "    return new_list"
   ]
  },
  {
   "cell_type": "code",
   "execution_count": 14,
   "id": "integrated-stomach",
   "metadata": {},
   "outputs": [],
   "source": [
    "list2 = [[5,6,8],[9,8,6],[2,4,4]]"
   ]
  },
  {
   "cell_type": "code",
   "execution_count": 15,
   "id": "miniature-cocktail",
   "metadata": {},
   "outputs": [
    {
     "data": {
      "text/plain": [
       "[19, 23, 10]"
      ]
     },
     "execution_count": 15,
     "metadata": {},
     "output_type": "execute_result"
    }
   ],
   "source": [
    "sum_of_each_row1(list2)"
   ]
  },
  {
   "cell_type": "markdown",
   "id": "legitimate-repair",
   "metadata": {},
   "source": [
    "3) Write a function that takes a two-dimensional list. The function must return the number of rows in the list that have an even sum and the number of rows that have an odd sum. For example, if the input is:<br>\n",
    "\n",
    "[[3,8],&emsp; first row = 3 + 8 = 11 &emsp; 11 is an odd number\n",
    "<br>[2,5]]&emsp; second row = 2 + 5 = 7 &emsp;  7 is an odd number\n",
    "<br>The output is: [0. 2]\n"
   ]
  },
  {
   "cell_type": "code",
   "execution_count": 64,
   "id": "alternate-colonial",
   "metadata": {},
   "outputs": [],
   "source": [
    "def even_and_odd_rows(list1):\n",
    "    \n",
    "    sum1=0\n",
    "    odd=0\n",
    "    even=0\n",
    "    new_list=[]\n",
    "    \n",
    "    for i in list1:\n",
    "        for j in i:\n",
    "            sum1 = j+sum1\n",
    "        if sum1%2==0:\n",
    "            even+=1\n",
    "        if sum1%2!=0:\n",
    "            odd+=1\n",
    "            \n",
    "    new_list.append(even)\n",
    "    new_list.append(odd)\n",
    "        \n",
    "    print('The number of rows that have an even summation=',new_list[0],'\\nThe number of rows that have an odd summation=',new_list[1])\n",
    "    return (new_list)"
   ]
  },
  {
   "cell_type": "code",
   "execution_count": 65,
   "id": "sexual-destruction",
   "metadata": {},
   "outputs": [],
   "source": [
    "list3 = [[7,65,8],[91,8,6],[2,4,47]]"
   ]
  },
  {
   "cell_type": "code",
   "execution_count": 66,
   "id": "distinguished-outside",
   "metadata": {},
   "outputs": [
    {
     "name": "stdout",
     "output_type": "stream",
     "text": [
      "The number of rows that have an even summation= 2 \n",
      "The number of rows that have an odd summation= 1\n"
     ]
    },
    {
     "data": {
      "text/plain": [
       "[2, 1]"
      ]
     },
     "execution_count": 66,
     "metadata": {},
     "output_type": "execute_result"
    }
   ],
   "source": [
    "even_and_odd_rows(list3)"
   ]
  },
  {
   "cell_type": "markdown",
   "id": "contained-xerox",
   "metadata": {},
   "source": [
    "4) Write a function that takes a two-dimensional list and returns a list containing the maximum value of each column."
   ]
  },
  {
   "cell_type": "code",
   "execution_count": 28,
   "id": "coral-plate",
   "metadata": {},
   "outputs": [],
   "source": [
    "def max_value_of_each_column(list1):\n",
    "\n",
    "    max1=0\n",
    "    new_list=[]\n",
    "    \n",
    "    for i in range(len(list1[0])):\n",
    "        max1=list1[0][i]\n",
    "        for j in range(len(list1)):\n",
    "            if list1[j][i]>max1:\n",
    "                max1=list1[j][i]\n",
    "            \n",
    "        new_list.append(max1)\n",
    "    \n",
    "    return new_list"
   ]
  },
  {
   "cell_type": "code",
   "execution_count": 73,
   "id": "fifteen-importance",
   "metadata": {},
   "outputs": [],
   "source": [
    "list4 = [[5 ,16 ,-8],\n",
    "         [-9 ,1 ,-6],\n",
    "         [2 ,4 ,-23],\n",
    "         [7 ,7, -2]]"
   ]
  },
  {
   "cell_type": "code",
   "execution_count": 74,
   "id": "about-southwest",
   "metadata": {},
   "outputs": [
    {
     "data": {
      "text/plain": [
       "[7, 16, -2]"
      ]
     },
     "execution_count": 74,
     "metadata": {},
     "output_type": "execute_result"
    }
   ],
   "source": [
    "max_value_of_each_column(list4)"
   ]
  },
  {
   "cell_type": "markdown",
   "id": "forward-relay",
   "metadata": {},
   "source": [
    "4.1) Write a function that takes a two-dimensional list and returns a list containing the maximum value of each row."
   ]
  },
  {
   "cell_type": "code",
   "execution_count": 31,
   "id": "permanent-elements",
   "metadata": {},
   "outputs": [],
   "source": [
    "def max_value_of_each_row(list1):\n",
    "\n",
    "    max1=0\n",
    "    new_list=[]\n",
    "    \n",
    "    for i in list1:\n",
    "        max1=i[0]\n",
    "        for j in range(len(i)):\n",
    "            \n",
    "            if i[j]>max1:\n",
    "                max1=i[j]\n",
    "            \n",
    "        new_list.append(max1)\n",
    "    \n",
    "    return new_list"
   ]
  },
  {
   "cell_type": "code",
   "execution_count": 67,
   "id": "subsequent-tenant",
   "metadata": {},
   "outputs": [],
   "source": [
    "list4_1 = [[5 ,6 ,-8],\n",
    "           [9 ,1 ,6],\n",
    "           [2 ,-4 ,0],\n",
    "           [-16 ,-7, 1]]"
   ]
  },
  {
   "cell_type": "code",
   "execution_count": 68,
   "id": "warming-infrastructure",
   "metadata": {},
   "outputs": [
    {
     "data": {
      "text/plain": [
       "[6, 9, 2, 1]"
      ]
     },
     "execution_count": 68,
     "metadata": {},
     "output_type": "execute_result"
    }
   ],
   "source": [
    "max_value_of_each_row(list4_1)"
   ]
  },
  {
   "cell_type": "markdown",
   "id": "challenging-spectacular",
   "metadata": {},
   "source": [
    "5) Write a function that takes two two-dimensional lists (matrices) a and b containing unknown lengths and, if they can be multiplied together, returns their product, otherwise returns \"These matrices cannot be multiplied\". Note: The two matrices a and b can only be multiplied if the number of columns in the first matrix (a) is equal to the number of rows in the second matrix (b)."
   ]
  },
  {
   "cell_type": "code",
   "execution_count": 34,
   "id": "yellow-commonwealth",
   "metadata": {},
   "outputs": [],
   "source": [
    "def multiply_matrices(list1,list2):\n",
    "    \n",
    "\n",
    "    new_list=[]\n",
    "    new_list3=[]\n",
    "    sum=0\n",
    "\n",
    "\n",
    "    if len(list1[0])==len(list2):\n",
    "        print('The product of given matrices is as follows:')\n",
    "        print()\n",
    "        for i in range(len(list1)):\n",
    "            for k in range(len(list2[0])):\n",
    "                for j in range(len(list2)):\n",
    "                    if i==k:\n",
    "                        sum = list1[i][j]*list2[j][i] + sum\n",
    "                    \n",
    "                    if i!=k:\n",
    "                        sum = list1[i][j]*list2[j][k] + sum\n",
    "                        \n",
    "                new_list.append(sum)\n",
    "                sum=0 \n",
    "            new_list3.append(new_list)\n",
    "            new_list=[]\n",
    "        print(new_list3)\n",
    "    else:\n",
    "        print('These matrices cannot be multiplied')"
   ]
  },
  {
   "cell_type": "code",
   "execution_count": 35,
   "id": "structured-shadow",
   "metadata": {},
   "outputs": [],
   "source": [
    "A=[[1,2,3,4,5],\n",
    "   [4,5,6,7,8],\n",
    "   [9,1,2,5,4]]\n",
    "   \n",
    "B=[[7,8,1],\n",
    "   [9,10,3],\n",
    "   [11,12,4],\n",
    "   [5,8,6],\n",
    "   [3,2,1]]"
   ]
  },
  {
   "cell_type": "code",
   "execution_count": 36,
   "id": "challenging-liverpool",
   "metadata": {},
   "outputs": [
    {
     "name": "stdout",
     "output_type": "stream",
     "text": [
      "The product of given matrices is as follows:\n",
      "\n",
      "[[93, 106, 48], [198, 226, 93], [131, 154, 54]]\n"
     ]
    }
   ],
   "source": [
    "multiply_matrices(A,B)"
   ]
  },
  {
   "cell_type": "code",
   "execution_count": 37,
   "id": "prerequisite-omaha",
   "metadata": {},
   "outputs": [],
   "source": [
    "A1=[[1,2,3,4,5],\n",
    "   [4,5,6,7,8]]\n",
    "   \n",
    "B1=[[7,8,1],\n",
    "   [9,10,3],\n",
    "   [11,12,4],\n",
    "   [5,8,6],\n",
    "   [3,2,1]]"
   ]
  },
  {
   "cell_type": "code",
   "execution_count": 38,
   "id": "indirect-celebration",
   "metadata": {
    "scrolled": true
   },
   "outputs": [
    {
     "name": "stdout",
     "output_type": "stream",
     "text": [
      "The product of given matrices is as follows:\n",
      "\n",
      "[[93, 106, 48], [198, 226, 93]]\n"
     ]
    }
   ],
   "source": [
    "multiply_matrices(A1,B1)"
   ]
  },
  {
   "cell_type": "code",
   "execution_count": 39,
   "id": "third-sacramento",
   "metadata": {},
   "outputs": [],
   "source": [
    "A2=[[1,2,3,4],\n",
    "   [4,5,6,7]]\n",
    "   \n",
    "B2=[[7,8,1],\n",
    "   [9,10,3],\n",
    "   [11,12,4],\n",
    "   [5,8,6],\n",
    "   [3,2,1]]"
   ]
  },
  {
   "cell_type": "code",
   "execution_count": 40,
   "id": "residential-management",
   "metadata": {},
   "outputs": [
    {
     "name": "stdout",
     "output_type": "stream",
     "text": [
      "These matrices cannot be multiplied\n"
     ]
    }
   ],
   "source": [
    "multiply_matrices(A2,B2)"
   ]
  },
  {
   "cell_type": "markdown",
   "id": "isolated-marking",
   "metadata": {},
   "source": [
    "6) Write a function that takes a dictionary contains students' name and grades (keys are student names and values are a list of grades for 3 exams (one-dimensional list)) as input and returns a list of student's name who have score higher or equal to 78 in all three tests."
   ]
  },
  {
   "cell_type": "code",
   "execution_count": 83,
   "id": "dimensional-plaza",
   "metadata": {},
   "outputs": [],
   "source": [
    "def best_std(B):\n",
    "    \n",
    "    A=list(B.keys())\n",
    "    n=0\n",
    "    new_list=[]\n",
    "\n",
    "    for i in A:\n",
    "        list1=B.get(i)\n",
    "        for j in list1:\n",
    "            if j>=78:\n",
    "                n+=1\n",
    "        if n==len(list1):\n",
    "            new_list.append(i)\n",
    "        n=0\n",
    "    return new_list "
   ]
  },
  {
   "cell_type": "code",
   "execution_count": 84,
   "id": "oriented-anxiety",
   "metadata": {},
   "outputs": [],
   "source": [
    "Grades = {'Frank Lampard': [74,65,32],'David Beckham': [80,79,99],'Wayne Rooney': [25,65,90],'Steven Gerrard': [78,78,89]}"
   ]
  },
  {
   "cell_type": "code",
   "execution_count": 85,
   "id": "confirmed-height",
   "metadata": {},
   "outputs": [
    {
     "data": {
      "text/plain": [
       "['David Beckham', 'Steven Gerrard']"
      ]
     },
     "execution_count": 85,
     "metadata": {},
     "output_type": "execute_result"
    }
   ],
   "source": [
    "best_std(Grades)"
   ]
  },
  {
   "cell_type": "markdown",
   "id": "mediterranean-situation",
   "metadata": {},
   "source": [
    "7) Write a function that takes a string as input and returns a dictionary of the number of letters. For example, the keys in this dictionary must be unique letters and the values must be the total number of letters. You should ignore  whitespaces and they should not be counted as one character. Also note that one lowercase character equals uppercase character.\n",
    "\n",
    "<br>For example if the input is: \"Hello World, I am learning python\"\n",
    "<br>The output should be: \n",
    "{'h': 2,\n",
    " 'e': 2,\n",
    " 'l': 4,\n",
    " 'o': 3,\n",
    " 'w': 1,\n",
    " 'r': 2,\n",
    " 'd': 1,\n",
    " ',': 1,\n",
    " 'i': 2,\n",
    " 'a': 2,\n",
    " 'm': 1,\n",
    " 'n': 3,\n",
    " 'g': 1,\n",
    " 'p': 1,\n",
    " 'y': 1,\n",
    " 't': 1}"
   ]
  },
  {
   "cell_type": "code",
   "execution_count": 45,
   "id": "tough-incentive",
   "metadata": {},
   "outputs": [],
   "source": [
    "def num_of_letter(A):\n",
    "    A = A.lower()\n",
    "    new_A=''\n",
    "    counted=[]\n",
    "    dict1={}\n",
    "    for i in A:\n",
    "        if i!=' ':\n",
    "            new_A=new_A+i\n",
    "    \n",
    "    for i in new_A:\n",
    "        if i not in counted:\n",
    "            counted.append(i)\n",
    "            count = A.count(i)\n",
    "            dict1[i] = count\n",
    "            \n",
    "            \n",
    "    print(dict1)\n",
    "    #or return dict1"
   ]
  },
  {
   "cell_type": "code",
   "execution_count": 46,
   "id": "common-insured",
   "metadata": {},
   "outputs": [
    {
     "name": "stdout",
     "output_type": "stream",
     "text": [
      "{'h': 2, 'e': 2, 'l': 4, 'o': 3, 'w': 1, 'r': 2, 'd': 1, ',': 1, 'i': 2, 'a': 2, 'm': 1, 'n': 3, 'g': 1, 'p': 1, 'y': 1, 't': 1}\n"
     ]
    }
   ],
   "source": [
    "A7=\"Hello World, I am learning python\"\n",
    "\n",
    "num_of_letter(A7)"
   ]
  },
  {
   "cell_type": "markdown",
   "id": "assisted-mobile",
   "metadata": {},
   "source": [
    "8) Write a function that takes a string of words as input and returns a dictionary of word counts. The keys in this dictionary must be unique words and the values must be the total number of words. Assume that the characters are not case sensitive. <br>For example, if the input string is as follows:\n",
    "\"Always have an ambition in life a life without purpose is meaningless\"\n",
    "<br> the output should be:\n",
    "{'always': 1,\n",
    " 'have': 1,\n",
    " 'a': 2,\n",
    " 'ambition': 1,\n",
    " 'in': 1,\n",
    " 'life': 2,\n",
    " 'without': 1,\n",
    " 'purpose': 1,\n",
    " 'is': 1,\n",
    " 'meaningless': 1}\n"
   ]
  },
  {
   "cell_type": "code",
   "execution_count": 86,
   "id": "labeled-wichita",
   "metadata": {},
   "outputs": [],
   "source": [
    "def num_of_words(A):\n",
    "    new_A = A.lower()\n",
    "    new_A = new_A.split()\n",
    "    counted=[]\n",
    "    dict1={}\n",
    "    for i in new_A:\n",
    "        if i not in counted:\n",
    "            counted.append(i)\n",
    "            count = new_A.count(i)\n",
    "            dict1[i] = count\n",
    "            \n",
    "            \n",
    "    print(dict1)\n",
    "    #or return dict1"
   ]
  },
  {
   "cell_type": "code",
   "execution_count": 87,
   "id": "humanitarian-broadcasting",
   "metadata": {},
   "outputs": [
    {
     "name": "stdout",
     "output_type": "stream",
     "text": [
      "{'always': 1, 'have': 1, 'an': 1, 'ambition': 1, 'in': 1, 'life': 2, 'a': 1, 'without': 1, 'purpose': 1, 'is': 1, 'meaningless': 1}\n"
     ]
    }
   ],
   "source": [
    "A8=\"Always have an ambition in life a life without purpose is meaningless\"\n",
    "\n",
    "num_of_words(A8)"
   ]
  },
  {
   "cell_type": "markdown",
   "id": "listed-roads",
   "metadata": {},
   "source": [
    "9) Write a function that takes an integer as input and returns words using those numbers. For example, if the integer is 5823, then this function must return the string \"five eight two three\". Note that there should be only one space between words and all letters in the string you return should be lowercase."
   ]
  },
  {
   "cell_type": "code",
   "execution_count": 49,
   "id": "arranged-curve",
   "metadata": {},
   "outputs": [],
   "source": [
    "def num_to_letter1(A):\n",
    "    dict1={'0': 'zero','1':'one','2':'two','3':'three','4':'four','5':'five','6':'six','7':'seven','8':'eight',\n",
    "           '9':'nine','10':'ten'}\n",
    "    A=str(A)\n",
    "    B=''\n",
    "    for i in A:\n",
    "        if B!='':\n",
    "            B = B+' '+dict1.get(i)\n",
    "        else:\n",
    "            B = B+dict1.get(i)\n",
    "        \n",
    "    return B"
   ]
  },
  {
   "cell_type": "code",
   "execution_count": 51,
   "id": "subsequent-burton",
   "metadata": {},
   "outputs": [
    {
     "data": {
      "text/plain": [
       "'five eight seven eight six six zero'"
      ]
     },
     "execution_count": 51,
     "metadata": {},
     "output_type": "execute_result"
    }
   ],
   "source": [
    "A9 = 5878660\n",
    "num_to_letter1(A9)"
   ]
  },
  {
   "cell_type": "markdown",
   "id": "copyrighted-rabbit",
   "metadata": {},
   "source": [
    "10) Write a function that takes a 4-digit integer (between 1000 and 9999) as an input  and returns the words using the integer, as shown below:\n",
    "<br> if the input integer is 5230 then the function should return the string \"five thousand two hundred thirty\"  "
   ]
  },
  {
   "cell_type": "code",
   "execution_count": 55,
   "id": "naval-substance",
   "metadata": {},
   "outputs": [],
   "source": [
    "def num_to_letter2(A):\n",
    "    dict2={'0': 'zero','1':'one','2':'two','3':'three','4':'four','5':'five','6':'six','7':'seven','8':'eight','9':'nine','10':'ten',\n",
    "       '11':'eleven','12':'twelve','13':'thirteen','14':'fourteen','15':'fifteen','16':'sixteen','17':'seventeen','18': 'eighteen',\n",
    "       '19':'nineteen','20':'twenty','40':'fourty','30':'thirty','50':'fifty','60':'sixty','70':'seventy','80':'eighty','90':'ninety'}\n",
    "    \n",
    "    \n",
    "    A=str(A)\n",
    "    B=''\n",
    "    n=0\n",
    "    \n",
    "        \n",
    "    if len(A)==4:\n",
    "        B = B+dict2.get(A[0])+' '+'thousand'\n",
    "        A = int(A)-(int(A[0])*1000)\n",
    "        A=str(A)\n",
    "        \n",
    "           \n",
    "    if len(A)==3:\n",
    "        if B!='':\n",
    "            B = B+' '+dict2.get(A[0])+' '+'hundred'\n",
    "            A = int(A)-(int(A[0])*100)\n",
    "            A=str(A)   \n",
    "        else:\n",
    "            B = B+dict2.get(A[0])+' '+'hundred'\n",
    "            A = int(A)-(int(A[0])*100)\n",
    "            A=str(A)\n",
    "        \n",
    "    if len(A)==2:\n",
    "        if B!='':\n",
    "            B = B +' '+ dict2.get(A[0]+'0')\n",
    "            A = int(A)-(int(A[0])*10)\n",
    "            A=str(A) \n",
    "        else:\n",
    "            B = B + dict2.get(A[0]+'0')\n",
    "            A = int(A)-(int(A[0])*10)\n",
    "            A=str(A) \n",
    "               \n",
    "    if len(A)==1:\n",
    "        if A=='0' and B=='':\n",
    "            B = B+dict2.get(A)\n",
    "            \n",
    "        if A!='0':\n",
    "            if B!='':\n",
    "                B = B+' '+dict2.get(A)\n",
    "            else:\n",
    "                B = B+dict2.get(A)\n",
    "      \n",
    "    \n",
    "    return B"
   ]
  },
  {
   "cell_type": "code",
   "execution_count": 57,
   "id": "superb-desire",
   "metadata": {},
   "outputs": [
    {
     "data": {
      "text/plain": [
       "'eight thousand five hundred sixty three'"
      ]
     },
     "execution_count": 57,
     "metadata": {},
     "output_type": "execute_result"
    }
   ],
   "source": [
    "A10 = 8563\n",
    "num_to_letter2(A10)"
   ]
  },
  {
   "cell_type": "code",
   "execution_count": 88,
   "id": "completed-gamma",
   "metadata": {},
   "outputs": [
    {
     "data": {
      "text/plain": [
       "'eight thousand sixty'"
      ]
     },
     "execution_count": 88,
     "metadata": {},
     "output_type": "execute_result"
    }
   ],
   "source": [
    "A10_1 = 8060\n",
    "num_to_letter2(A10_1)"
   ]
  },
  {
   "cell_type": "code",
   "execution_count": 59,
   "id": "filled-bookmark",
   "metadata": {},
   "outputs": [
    {
     "data": {
      "text/plain": [
       "'eight hundred fifty six'"
      ]
     },
     "execution_count": 59,
     "metadata": {},
     "output_type": "execute_result"
    }
   ],
   "source": [
    "A10_2 = 856\n",
    "num_to_letter2(A10_2)"
   ]
  },
  {
   "cell_type": "code",
   "execution_count": 62,
   "id": "russian-letters",
   "metadata": {},
   "outputs": [
    {
     "data": {
      "text/plain": [
       "'eighty five'"
      ]
     },
     "execution_count": 62,
     "metadata": {},
     "output_type": "execute_result"
    }
   ],
   "source": [
    "A10_3 = 85\n",
    "num_to_letter2(A10_3)"
   ]
  },
  {
   "cell_type": "code",
   "execution_count": 63,
   "id": "organized-unknown",
   "metadata": {},
   "outputs": [
    {
     "data": {
      "text/plain": [
       "'zero'"
      ]
     },
     "execution_count": 63,
     "metadata": {},
     "output_type": "execute_result"
    }
   ],
   "source": [
    "A10_4 = 0\n",
    "num_to_letter2(A10_4)"
   ]
  }
 ],
 "metadata": {
  "kernelspec": {
   "display_name": "dl",
   "language": "python",
   "name": "dl"
  },
  "language_info": {
   "codemirror_mode": {
    "name": "ipython",
    "version": 3
   },
   "file_extension": ".py",
   "mimetype": "text/x-python",
   "name": "python",
   "nbconvert_exporter": "python",
   "pygments_lexer": "ipython3",
   "version": "3.6.12"
  }
 },
 "nbformat": 4,
 "nbformat_minor": 5
}
